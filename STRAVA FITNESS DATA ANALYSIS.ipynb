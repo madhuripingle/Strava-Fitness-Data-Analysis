{
 "cells": [
  {
   "cell_type": "markdown",
   "id": "f8c054ee-d01d-4670-ac4d-f3c9ae200dd6",
   "metadata": {},
   "source": [
    "# Strava fitness data analysis"
   ]
  },
  {
   "cell_type": "markdown",
   "id": "4e57ff4d-a076-4461-9a58-312e888b9ff6",
   "metadata": {},
   "source": [
    "# Process\n",
    "\n",
    "## Key Tasks\n",
    "\n",
    "1.Check the data for errors.\n",
    "2.Choose your tools.\n",
    "3.Transform the data so you can work with it effectively.\n",
    "4.Document the cleaning process.\n",
    "\n",
    "## Deliverable\n",
    "\n",
    "Documentation of any cleaning or manipulation of data. It is the below steps:"
   ]
  },
  {
   "cell_type": "markdown",
   "id": "e9cf8d57-32aa-4bff-b273-c88334fcbb51",
   "metadata": {},
   "source": [
    "## Load libraries and datasets"
   ]
  },
  {
   "cell_type": "code",
   "execution_count": 16,
   "id": "75458f5c-fec5-418f-971e-a3193e4bc513",
   "metadata": {},
   "outputs": [],
   "source": [
    "import pandas as pd\n",
    "import numpy as np\n",
    "import matplotlib.pyplot as plt\n",
    "import seaborn as sns\n",
    "import datetime as dt"
   ]
  },
  {
   "cell_type": "markdown",
   "id": "43343fd0-5c99-4858-87bf-9fac1ddb2bc0",
   "metadata": {},
   "source": [
    "## We will focus on:"
   ]
  },
  {
   "cell_type": "raw",
   "id": "bfd464f5-fa6a-4f49-bf33-1adbc8981320",
   "metadata": {},
   "source": [
    "1.DailyActivitiy\n",
    "2.DailySleep\n",
    "3.DailySteps\n",
    "4.DailyCalories"
   ]
  },
  {
   "cell_type": "code",
   "execution_count": 17,
   "id": "5eeff00e-33ca-4016-a802-17f2180f0f7d",
   "metadata": {},
   "outputs": [
    {
     "data": {
      "text/plain": [
       "'C:\\\\Users\\\\admin\\\\Downloads'"
      ]
     },
     "execution_count": 17,
     "metadata": {},
     "output_type": "execute_result"
    }
   ],
   "source": [
    "pwd"
   ]
  },
  {
   "cell_type": "code",
   "execution_count": 18,
   "id": "83c989fb-3027-4bff-82a6-f0fb8c0d30a8",
   "metadata": {},
   "outputs": [],
   "source": [
    "daily_activity = pd.read_csv(\"dailyActivity_merged.csv\")"
   ]
  },
  {
   "cell_type": "code",
   "execution_count": 19,
   "id": "1687af2a-39a6-49d2-bbb1-37f3cf236ccc",
   "metadata": {},
   "outputs": [],
   "source": [
    "daily_calories = pd.read_csv(\"dailyCalories_merged.csv\")"
   ]
  },
  {
   "cell_type": "code",
   "execution_count": 20,
   "id": "aa58bea4-0387-4105-b470-3cd5ff09ccc4",
   "metadata": {},
   "outputs": [],
   "source": [
    "daily_steps = pd.read_csv(\"dailySteps_merged.csv\")"
   ]
  },
  {
   "cell_type": "code",
   "execution_count": 21,
   "id": "8acef62d-4520-44d6-91be-74ec121da643",
   "metadata": {},
   "outputs": [],
   "source": [
    "daily_sleep = pd.read_csv(\"sleepDay_merged.csv\")"
   ]
  },
  {
   "cell_type": "markdown",
   "id": "62f98cdf-7b28-4363-89f8-896b99ed2ce8",
   "metadata": {},
   "source": [
    "## Clean Data"
   ]
  },
  {
   "cell_type": "markdown",
   "id": "6f87e2f4-cac7-482a-a6c9-7fdcb49ca50b",
   "metadata": {},
   "source": [
    "## Check unique user id"
   ]
  },
  {
   "cell_type": "code",
   "execution_count": 22,
   "id": "7d3e1487-a9ec-4c61-a1f6-d25035629f9f",
   "metadata": {},
   "outputs": [
    {
     "name": "stdout",
     "output_type": "stream",
     "text": [
      "daily_activity:  33\n"
     ]
    }
   ],
   "source": [
    "print(\"daily_activity: \", daily_activity[\"Id\"].nunique())"
   ]
  },
  {
   "cell_type": "code",
   "execution_count": 23,
   "id": "23587a8d-4d29-49c9-a581-c73f4ad59d63",
   "metadata": {},
   "outputs": [
    {
     "name": "stdout",
     "output_type": "stream",
     "text": [
      "daily_calories:  33\n"
     ]
    }
   ],
   "source": [
    "print(\"daily_calories: \", daily_calories[\"Id\"].nunique())"
   ]
  },
  {
   "cell_type": "code",
   "execution_count": 24,
   "id": "8e56a80c-b982-4a34-9f52-3826bd62f1c3",
   "metadata": {},
   "outputs": [
    {
     "name": "stdout",
     "output_type": "stream",
     "text": [
      "daily_steps:  33\n"
     ]
    }
   ],
   "source": [
    "print(\"daily_steps: \", daily_steps[\"Id\"].nunique())"
   ]
  },
  {
   "cell_type": "code",
   "execution_count": 25,
   "id": "a3f91256-5774-44b3-a911-a15e97aff546",
   "metadata": {},
   "outputs": [
    {
     "name": "stdout",
     "output_type": "stream",
     "text": [
      "daily_sleep:  24\n"
     ]
    }
   ],
   "source": [
    "print(\"daily_sleep: \", daily_sleep[\"Id\"].nunique())"
   ]
  },
  {
   "cell_type": "markdown",
   "id": "bb2bc6ec-dea6-40d9-8421-4660a0dc847f",
   "metadata": {},
   "source": [
    "## Check for duplicates"
   ]
  },
  {
   "cell_type": "code",
   "execution_count": 26,
   "id": "4df6b84d-882b-43da-a476-2c20109f91dc",
   "metadata": {},
   "outputs": [
    {
     "name": "stdout",
     "output_type": "stream",
     "text": [
      "daily_activity:  0\n"
     ]
    }
   ],
   "source": [
    "print(\"daily_activity: \", daily_activity.duplicated().sum())"
   ]
  },
  {
   "cell_type": "code",
   "execution_count": 27,
   "id": "c07db121-3831-4671-acee-94b474b1f289",
   "metadata": {},
   "outputs": [
    {
     "name": "stdout",
     "output_type": "stream",
     "text": [
      "daily_caloreis:  0\n"
     ]
    }
   ],
   "source": [
    "print(\"daily_caloreis: \", daily_calories.duplicated().sum())"
   ]
  },
  {
   "cell_type": "code",
   "execution_count": 28,
   "id": "1add4908-818c-4ccc-8933-f17873487b34",
   "metadata": {},
   "outputs": [
    {
     "name": "stdout",
     "output_type": "stream",
     "text": [
      "daily_steps:  0\n"
     ]
    }
   ],
   "source": [
    "print(\"daily_steps: \", daily_steps.duplicated().sum())"
   ]
  },
  {
   "cell_type": "code",
   "execution_count": 29,
   "id": "13f7538a-8a7b-42b8-a86a-31af79248890",
   "metadata": {},
   "outputs": [
    {
     "name": "stdout",
     "output_type": "stream",
     "text": [
      "daily_sleep:  3\n"
     ]
    }
   ],
   "source": [
    "print(\"daily_sleep: \", daily_sleep.duplicated().sum())"
   ]
  },
  {
   "cell_type": "markdown",
   "id": "5ab1bbfe-0373-4cec-947b-e4c2c6c4fd6f",
   "metadata": {},
   "source": [
    "## Remove duplicates daily_sleep dataset"
   ]
  },
  {
   "cell_type": "code",
   "execution_count": 30,
   "id": "39540efa-beb5-4e5b-8d7b-145033a14ec6",
   "metadata": {},
   "outputs": [],
   "source": [
    "daily_sleep.drop_duplicates(inplace=True)"
   ]
  },
  {
   "cell_type": "code",
   "execution_count": 31,
   "id": "e3e056d5-2a1c-4490-a2e2-50152a7e4059",
   "metadata": {},
   "outputs": [
    {
     "name": "stdout",
     "output_type": "stream",
     "text": [
      "daily_sleep:  0\n"
     ]
    }
   ],
   "source": [
    "print(\"daily_sleep: \", daily_sleep.duplicated().sum())"
   ]
  },
  {
   "cell_type": "markdown",
   "id": "8a723991-0be2-4d1f-8ef9-e26dc04c2e8d",
   "metadata": {},
   "source": [
    "## Check null values"
   ]
  },
  {
   "cell_type": "code",
   "execution_count": 32,
   "id": "4a9ffd5d-f826-427f-be62-e875cc184590",
   "metadata": {},
   "outputs": [
    {
     "name": "stdout",
     "output_type": "stream",
     "text": [
      "daily_activity:  Id                          0\n",
      "ActivityDay                 0\n",
      "TotalSteps                  0\n",
      "TotalDistance               0\n",
      "TrackerDistance             0\n",
      "VeryActiveDistance          0\n",
      "ModeratelyActiveDistance    0\n",
      "LightActiveDistance         0\n",
      "VeryActiveMinutes           0\n",
      "FairlyActiveMinutes         0\n",
      "LightlyActiveMinutes        0\n",
      "SedentaryMinutes            0\n",
      "Calories                    0\n",
      "dtype: int64\n"
     ]
    }
   ],
   "source": [
    "print(\"daily_activity: \", daily_activity.isnull().sum())"
   ]
  },
  {
   "cell_type": "code",
   "execution_count": 33,
   "id": "019ca4d8-8be1-4e68-95c1-cc599ecf02e1",
   "metadata": {},
   "outputs": [
    {
     "name": "stdout",
     "output_type": "stream",
     "text": [
      "daily_calories:  Id             0\n",
      "ActivityDay    0\n",
      "Calories       0\n",
      "dtype: int64\n"
     ]
    }
   ],
   "source": [
    "print(\"daily_calories: \", daily_calories.isnull().sum())"
   ]
  },
  {
   "cell_type": "code",
   "execution_count": 34,
   "id": "9b4de6e9-f5c2-4298-8c8d-2d0151bf3237",
   "metadata": {},
   "outputs": [
    {
     "name": "stdout",
     "output_type": "stream",
     "text": [
      "daily_steps:  Id             0\n",
      "ActivityDay    0\n",
      "StepTotal      0\n",
      "dtype: int64\n"
     ]
    }
   ],
   "source": [
    "print(\"daily_steps: \", daily_steps.isnull().sum())"
   ]
  },
  {
   "cell_type": "code",
   "execution_count": 35,
   "id": "990606ef-5843-4111-baff-a3332a537747",
   "metadata": {},
   "outputs": [
    {
     "name": "stdout",
     "output_type": "stream",
     "text": [
      "daily_sleep:  Id                    0\n",
      "SleepDay              0\n",
      "TotalSleepRecords     0\n",
      "TotalMinutesAsleep    0\n",
      "TotalTimeInBed        0\n",
      "dtype: int64\n"
     ]
    }
   ],
   "source": [
    "print(\"daily_sleep: \", daily_sleep.isnull().sum())"
   ]
  },
  {
   "cell_type": "markdown",
   "id": "e6902bee-6b7d-4151-ad06-bd5ee77ca63b",
   "metadata": {},
   "source": [
    "## Clean and rename columns for consistency \n",
    "\n",
    "## Change all columns to lowercase"
   ]
  },
  {
   "cell_type": "code",
   "execution_count": 36,
   "id": "266072f6-f5fb-4c5c-8012-c084e2ac55b8",
   "metadata": {},
   "outputs": [],
   "source": [
    "daily_activity.columns = daily_activity.columns.str.lower()"
   ]
  },
  {
   "cell_type": "code",
   "execution_count": 37,
   "id": "ca4b0654-e3c8-48c6-9e69-051fded4bded",
   "metadata": {},
   "outputs": [],
   "source": [
    "daily_calories.columns = daily_calories.columns.str.lower()"
   ]
  },
  {
   "cell_type": "code",
   "execution_count": 38,
   "id": "bc01eb63-d25c-4803-bdcb-4a924bb7540b",
   "metadata": {},
   "outputs": [],
   "source": [
    "daily_steps.columns = daily_steps.columns.str.lower()"
   ]
  },
  {
   "cell_type": "code",
   "execution_count": 39,
   "id": "fb200296-b54c-4acf-b7d7-b4c8974c7cb2",
   "metadata": {},
   "outputs": [],
   "source": [
    "daily_sleep.columns = daily_sleep.columns.str.lower()"
   ]
  },
  {
   "cell_type": "markdown",
   "id": "041b69b5-8415-437a-9727-a4a51e129d1f",
   "metadata": {},
   "source": [
    "## Check the table"
   ]
  },
  {
   "cell_type": "code",
   "execution_count": 40,
   "id": "5177339e-2550-42a3-b417-1032632234aa",
   "metadata": {},
   "outputs": [
    {
     "data": {
      "text/html": [
       "<div>\n",
       "<style scoped>\n",
       "    .dataframe tbody tr th:only-of-type {\n",
       "        vertical-align: middle;\n",
       "    }\n",
       "\n",
       "    .dataframe tbody tr th {\n",
       "        vertical-align: top;\n",
       "    }\n",
       "\n",
       "    .dataframe thead th {\n",
       "        text-align: right;\n",
       "    }\n",
       "</style>\n",
       "<table border=\"1\" class=\"dataframe\">\n",
       "  <thead>\n",
       "    <tr style=\"text-align: right;\">\n",
       "      <th></th>\n",
       "      <th>id</th>\n",
       "      <th>activityday</th>\n",
       "      <th>totalsteps</th>\n",
       "      <th>totaldistance</th>\n",
       "      <th>trackerdistance</th>\n",
       "      <th>veryactivedistance</th>\n",
       "      <th>moderatelyactivedistance</th>\n",
       "      <th>lightactivedistance</th>\n",
       "      <th>veryactiveminutes</th>\n",
       "      <th>fairlyactiveminutes</th>\n",
       "      <th>lightlyactiveminutes</th>\n",
       "      <th>sedentaryminutes</th>\n",
       "      <th>calories</th>\n",
       "    </tr>\n",
       "  </thead>\n",
       "  <tbody>\n",
       "    <tr>\n",
       "      <th>0</th>\n",
       "      <td>1503960366</td>\n",
       "      <td>04/12/2016</td>\n",
       "      <td>13162</td>\n",
       "      <td>8.50</td>\n",
       "      <td>8.50</td>\n",
       "      <td>1.88</td>\n",
       "      <td>0.55</td>\n",
       "      <td>6.06</td>\n",
       "      <td>25</td>\n",
       "      <td>13</td>\n",
       "      <td>328</td>\n",
       "      <td>728</td>\n",
       "      <td>1985</td>\n",
       "    </tr>\n",
       "    <tr>\n",
       "      <th>1</th>\n",
       "      <td>1503960366</td>\n",
       "      <td>4/13/2016</td>\n",
       "      <td>10735</td>\n",
       "      <td>6.97</td>\n",
       "      <td>6.97</td>\n",
       "      <td>1.57</td>\n",
       "      <td>0.69</td>\n",
       "      <td>4.71</td>\n",
       "      <td>21</td>\n",
       "      <td>19</td>\n",
       "      <td>217</td>\n",
       "      <td>776</td>\n",
       "      <td>1797</td>\n",
       "    </tr>\n",
       "    <tr>\n",
       "      <th>2</th>\n",
       "      <td>1503960366</td>\n",
       "      <td>4/14/2016</td>\n",
       "      <td>10460</td>\n",
       "      <td>6.74</td>\n",
       "      <td>6.74</td>\n",
       "      <td>2.44</td>\n",
       "      <td>0.40</td>\n",
       "      <td>3.91</td>\n",
       "      <td>30</td>\n",
       "      <td>11</td>\n",
       "      <td>181</td>\n",
       "      <td>1218</td>\n",
       "      <td>1776</td>\n",
       "    </tr>\n",
       "    <tr>\n",
       "      <th>3</th>\n",
       "      <td>1503960366</td>\n",
       "      <td>4/15/2016</td>\n",
       "      <td>9762</td>\n",
       "      <td>6.28</td>\n",
       "      <td>6.28</td>\n",
       "      <td>2.14</td>\n",
       "      <td>1.26</td>\n",
       "      <td>2.83</td>\n",
       "      <td>29</td>\n",
       "      <td>34</td>\n",
       "      <td>209</td>\n",
       "      <td>726</td>\n",
       "      <td>1745</td>\n",
       "    </tr>\n",
       "    <tr>\n",
       "      <th>4</th>\n",
       "      <td>1503960366</td>\n",
       "      <td>4/16/2016</td>\n",
       "      <td>12669</td>\n",
       "      <td>8.16</td>\n",
       "      <td>8.16</td>\n",
       "      <td>2.71</td>\n",
       "      <td>0.41</td>\n",
       "      <td>5.04</td>\n",
       "      <td>36</td>\n",
       "      <td>10</td>\n",
       "      <td>221</td>\n",
       "      <td>773</td>\n",
       "      <td>1863</td>\n",
       "    </tr>\n",
       "  </tbody>\n",
       "</table>\n",
       "</div>"
      ],
      "text/plain": [
       "           id activityday  totalsteps  totaldistance  trackerdistance  \\\n",
       "0  1503960366  04/12/2016       13162           8.50             8.50   \n",
       "1  1503960366   4/13/2016       10735           6.97             6.97   \n",
       "2  1503960366   4/14/2016       10460           6.74             6.74   \n",
       "3  1503960366   4/15/2016        9762           6.28             6.28   \n",
       "4  1503960366   4/16/2016       12669           8.16             8.16   \n",
       "\n",
       "   veryactivedistance  moderatelyactivedistance  lightactivedistance  \\\n",
       "0                1.88                      0.55                 6.06   \n",
       "1                1.57                      0.69                 4.71   \n",
       "2                2.44                      0.40                 3.91   \n",
       "3                2.14                      1.26                 2.83   \n",
       "4                2.71                      0.41                 5.04   \n",
       "\n",
       "   veryactiveminutes  fairlyactiveminutes  lightlyactiveminutes  \\\n",
       "0                 25                   13                   328   \n",
       "1                 21                   19                   217   \n",
       "2                 30                   11                   181   \n",
       "3                 29                   34                   209   \n",
       "4                 36                   10                   221   \n",
       "\n",
       "   sedentaryminutes  calories  \n",
       "0               728      1985  \n",
       "1               776      1797  \n",
       "2              1218      1776  \n",
       "3               726      1745  \n",
       "4               773      1863  "
      ]
     },
     "execution_count": 40,
     "metadata": {},
     "output_type": "execute_result"
    }
   ],
   "source": [
    "daily_activity.head()"
   ]
  },
  {
   "cell_type": "code",
   "execution_count": 41,
   "id": "fe965b3d-003b-490c-a44b-3267556f9233",
   "metadata": {},
   "outputs": [
    {
     "data": {
      "text/html": [
       "<div>\n",
       "<style scoped>\n",
       "    .dataframe tbody tr th:only-of-type {\n",
       "        vertical-align: middle;\n",
       "    }\n",
       "\n",
       "    .dataframe tbody tr th {\n",
       "        vertical-align: top;\n",
       "    }\n",
       "\n",
       "    .dataframe thead th {\n",
       "        text-align: right;\n",
       "    }\n",
       "</style>\n",
       "<table border=\"1\" class=\"dataframe\">\n",
       "  <thead>\n",
       "    <tr style=\"text-align: right;\">\n",
       "      <th></th>\n",
       "      <th>id</th>\n",
       "      <th>totalsteps</th>\n",
       "      <th>totaldistance</th>\n",
       "      <th>trackerdistance</th>\n",
       "      <th>veryactivedistance</th>\n",
       "      <th>moderatelyactivedistance</th>\n",
       "      <th>lightactivedistance</th>\n",
       "      <th>veryactiveminutes</th>\n",
       "      <th>fairlyactiveminutes</th>\n",
       "      <th>lightlyactiveminutes</th>\n",
       "      <th>sedentaryminutes</th>\n",
       "      <th>calories</th>\n",
       "    </tr>\n",
       "  </thead>\n",
       "  <tbody>\n",
       "    <tr>\n",
       "      <th>count</th>\n",
       "      <td>9.400000e+02</td>\n",
       "      <td>940.000000</td>\n",
       "      <td>940.000000</td>\n",
       "      <td>940.000000</td>\n",
       "      <td>940.000000</td>\n",
       "      <td>940.000000</td>\n",
       "      <td>940.000000</td>\n",
       "      <td>940.000000</td>\n",
       "      <td>940.000000</td>\n",
       "      <td>940.000000</td>\n",
       "      <td>940.000000</td>\n",
       "      <td>940.000000</td>\n",
       "    </tr>\n",
       "    <tr>\n",
       "      <th>mean</th>\n",
       "      <td>4.855407e+09</td>\n",
       "      <td>7640.619149</td>\n",
       "      <td>5.489702</td>\n",
       "      <td>5.475351</td>\n",
       "      <td>1.502681</td>\n",
       "      <td>0.567543</td>\n",
       "      <td>3.340819</td>\n",
       "      <td>21.164894</td>\n",
       "      <td>13.564894</td>\n",
       "      <td>192.812766</td>\n",
       "      <td>991.210638</td>\n",
       "      <td>2303.609574</td>\n",
       "    </tr>\n",
       "    <tr>\n",
       "      <th>std</th>\n",
       "      <td>2.424805e+09</td>\n",
       "      <td>5090.237269</td>\n",
       "      <td>3.924606</td>\n",
       "      <td>3.907276</td>\n",
       "      <td>2.658941</td>\n",
       "      <td>0.883580</td>\n",
       "      <td>2.040655</td>\n",
       "      <td>32.844803</td>\n",
       "      <td>19.987404</td>\n",
       "      <td>109.174700</td>\n",
       "      <td>301.267437</td>\n",
       "      <td>718.166862</td>\n",
       "    </tr>\n",
       "    <tr>\n",
       "      <th>min</th>\n",
       "      <td>1.503960e+09</td>\n",
       "      <td>0.000000</td>\n",
       "      <td>0.000000</td>\n",
       "      <td>0.000000</td>\n",
       "      <td>0.000000</td>\n",
       "      <td>0.000000</td>\n",
       "      <td>0.000000</td>\n",
       "      <td>0.000000</td>\n",
       "      <td>0.000000</td>\n",
       "      <td>0.000000</td>\n",
       "      <td>0.000000</td>\n",
       "      <td>0.000000</td>\n",
       "    </tr>\n",
       "    <tr>\n",
       "      <th>25%</th>\n",
       "      <td>2.320127e+09</td>\n",
       "      <td>3789.750000</td>\n",
       "      <td>2.620000</td>\n",
       "      <td>2.620000</td>\n",
       "      <td>0.000000</td>\n",
       "      <td>0.000000</td>\n",
       "      <td>1.945000</td>\n",
       "      <td>0.000000</td>\n",
       "      <td>0.000000</td>\n",
       "      <td>127.000000</td>\n",
       "      <td>729.750000</td>\n",
       "      <td>1828.500000</td>\n",
       "    </tr>\n",
       "    <tr>\n",
       "      <th>50%</th>\n",
       "      <td>4.445115e+09</td>\n",
       "      <td>7405.500000</td>\n",
       "      <td>5.245000</td>\n",
       "      <td>5.245000</td>\n",
       "      <td>0.210000</td>\n",
       "      <td>0.240000</td>\n",
       "      <td>3.365000</td>\n",
       "      <td>4.000000</td>\n",
       "      <td>6.000000</td>\n",
       "      <td>199.000000</td>\n",
       "      <td>1057.500000</td>\n",
       "      <td>2134.000000</td>\n",
       "    </tr>\n",
       "    <tr>\n",
       "      <th>75%</th>\n",
       "      <td>6.962181e+09</td>\n",
       "      <td>10727.000000</td>\n",
       "      <td>7.712500</td>\n",
       "      <td>7.710000</td>\n",
       "      <td>2.052500</td>\n",
       "      <td>0.800000</td>\n",
       "      <td>4.782500</td>\n",
       "      <td>32.000000</td>\n",
       "      <td>19.000000</td>\n",
       "      <td>264.000000</td>\n",
       "      <td>1229.500000</td>\n",
       "      <td>2793.250000</td>\n",
       "    </tr>\n",
       "    <tr>\n",
       "      <th>max</th>\n",
       "      <td>8.877689e+09</td>\n",
       "      <td>36019.000000</td>\n",
       "      <td>28.030000</td>\n",
       "      <td>28.030000</td>\n",
       "      <td>21.920000</td>\n",
       "      <td>6.480000</td>\n",
       "      <td>10.710000</td>\n",
       "      <td>210.000000</td>\n",
       "      <td>143.000000</td>\n",
       "      <td>518.000000</td>\n",
       "      <td>1440.000000</td>\n",
       "      <td>4900.000000</td>\n",
       "    </tr>\n",
       "  </tbody>\n",
       "</table>\n",
       "</div>"
      ],
      "text/plain": [
       "                 id    totalsteps  totaldistance  trackerdistance  \\\n",
       "count  9.400000e+02    940.000000     940.000000       940.000000   \n",
       "mean   4.855407e+09   7640.619149       5.489702         5.475351   \n",
       "std    2.424805e+09   5090.237269       3.924606         3.907276   \n",
       "min    1.503960e+09      0.000000       0.000000         0.000000   \n",
       "25%    2.320127e+09   3789.750000       2.620000         2.620000   \n",
       "50%    4.445115e+09   7405.500000       5.245000         5.245000   \n",
       "75%    6.962181e+09  10727.000000       7.712500         7.710000   \n",
       "max    8.877689e+09  36019.000000      28.030000        28.030000   \n",
       "\n",
       "       veryactivedistance  moderatelyactivedistance  lightactivedistance  \\\n",
       "count          940.000000                940.000000           940.000000   \n",
       "mean             1.502681                  0.567543             3.340819   \n",
       "std              2.658941                  0.883580             2.040655   \n",
       "min              0.000000                  0.000000             0.000000   \n",
       "25%              0.000000                  0.000000             1.945000   \n",
       "50%              0.210000                  0.240000             3.365000   \n",
       "75%              2.052500                  0.800000             4.782500   \n",
       "max             21.920000                  6.480000            10.710000   \n",
       "\n",
       "       veryactiveminutes  fairlyactiveminutes  lightlyactiveminutes  \\\n",
       "count         940.000000           940.000000            940.000000   \n",
       "mean           21.164894            13.564894            192.812766   \n",
       "std            32.844803            19.987404            109.174700   \n",
       "min             0.000000             0.000000              0.000000   \n",
       "25%             0.000000             0.000000            127.000000   \n",
       "50%             4.000000             6.000000            199.000000   \n",
       "75%            32.000000            19.000000            264.000000   \n",
       "max           210.000000           143.000000            518.000000   \n",
       "\n",
       "       sedentaryminutes     calories  \n",
       "count        940.000000   940.000000  \n",
       "mean         991.210638  2303.609574  \n",
       "std          301.267437   718.166862  \n",
       "min            0.000000     0.000000  \n",
       "25%          729.750000  1828.500000  \n",
       "50%         1057.500000  2134.000000  \n",
       "75%         1229.500000  2793.250000  \n",
       "max         1440.000000  4900.000000  "
      ]
     },
     "execution_count": 41,
     "metadata": {},
     "output_type": "execute_result"
    }
   ],
   "source": [
    "daily_activity.describe() "
   ]
  },
  {
   "cell_type": "raw",
   "id": "f8db27f7-d313-4f90-a218-f2cef7344933",
   "metadata": {},
   "source": [
    "# Make all datasets date format consistent"
   ]
  },
  {
   "cell_type": "code",
   "execution_count": 45,
   "id": "0a2c2902-95df-4419-9901-d1bb07d4fed4",
   "metadata": {},
   "outputs": [],
   "source": [
    "daily_activity[\"activityday\"] = pd.to_datetime(\n",
    "    daily_activity[\"activityday\"], format=\"%m/%d/%Y\")"
   ]
  },
  {
   "cell_type": "code",
   "execution_count": 46,
   "id": "6d9716db-f63f-4d61-8fd2-aae66157ab6b",
   "metadata": {},
   "outputs": [],
   "source": [
    "daily_calories[\"activityday\"] = pd.to_datetime(\n",
    "    daily_calories[\"activityday\"], format=\"%m/%d/%Y\")"
   ]
  },
  {
   "cell_type": "code",
   "execution_count": 47,
   "id": "fd165ab1-aec0-4c95-a58e-7acda8a3c0bd",
   "metadata": {},
   "outputs": [],
   "source": [
    "daily_steps[\"activityday\"] = pd.to_datetime(\n",
    "    daily_steps[\"activityday\"], format=\"%m/%d/%Y\")"
   ]
  },
  {
   "cell_type": "code",
   "execution_count": 48,
   "id": "d3c762c7-7de3-49f0-9d1e-279ae74ee04c",
   "metadata": {},
   "outputs": [],
   "source": [
    "daily_sleep[\"sleepday\"] = pd.to_datetime(\n",
    "    daily_sleep[\"sleepday\"], format=\"%m/%d/%Y\")"
   ]
  },
  {
   "cell_type": "code",
   "execution_count": 49,
   "id": "48a6af46-6962-4b3e-bb66-d4076f74d213",
   "metadata": {},
   "outputs": [
    {
     "data": {
      "text/html": [
       "<div>\n",
       "<style scoped>\n",
       "    .dataframe tbody tr th:only-of-type {\n",
       "        vertical-align: middle;\n",
       "    }\n",
       "\n",
       "    .dataframe tbody tr th {\n",
       "        vertical-align: top;\n",
       "    }\n",
       "\n",
       "    .dataframe thead th {\n",
       "        text-align: right;\n",
       "    }\n",
       "</style>\n",
       "<table border=\"1\" class=\"dataframe\">\n",
       "  <thead>\n",
       "    <tr style=\"text-align: right;\">\n",
       "      <th></th>\n",
       "      <th>id</th>\n",
       "      <th>activityday</th>\n",
       "      <th>totalsteps</th>\n",
       "      <th>totaldistance</th>\n",
       "      <th>trackerdistance</th>\n",
       "      <th>veryactivedistance</th>\n",
       "      <th>moderatelyactivedistance</th>\n",
       "      <th>lightactivedistance</th>\n",
       "      <th>veryactiveminutes</th>\n",
       "      <th>fairlyactiveminutes</th>\n",
       "      <th>lightlyactiveminutes</th>\n",
       "      <th>sedentaryminutes</th>\n",
       "      <th>calories</th>\n",
       "    </tr>\n",
       "  </thead>\n",
       "  <tbody>\n",
       "    <tr>\n",
       "      <th>0</th>\n",
       "      <td>1503960366</td>\n",
       "      <td>2016-04-12</td>\n",
       "      <td>13162</td>\n",
       "      <td>8.50</td>\n",
       "      <td>8.50</td>\n",
       "      <td>1.88</td>\n",
       "      <td>0.55</td>\n",
       "      <td>6.06</td>\n",
       "      <td>25</td>\n",
       "      <td>13</td>\n",
       "      <td>328</td>\n",
       "      <td>728</td>\n",
       "      <td>1985</td>\n",
       "    </tr>\n",
       "    <tr>\n",
       "      <th>1</th>\n",
       "      <td>1503960366</td>\n",
       "      <td>2016-04-13</td>\n",
       "      <td>10735</td>\n",
       "      <td>6.97</td>\n",
       "      <td>6.97</td>\n",
       "      <td>1.57</td>\n",
       "      <td>0.69</td>\n",
       "      <td>4.71</td>\n",
       "      <td>21</td>\n",
       "      <td>19</td>\n",
       "      <td>217</td>\n",
       "      <td>776</td>\n",
       "      <td>1797</td>\n",
       "    </tr>\n",
       "    <tr>\n",
       "      <th>2</th>\n",
       "      <td>1503960366</td>\n",
       "      <td>2016-04-14</td>\n",
       "      <td>10460</td>\n",
       "      <td>6.74</td>\n",
       "      <td>6.74</td>\n",
       "      <td>2.44</td>\n",
       "      <td>0.40</td>\n",
       "      <td>3.91</td>\n",
       "      <td>30</td>\n",
       "      <td>11</td>\n",
       "      <td>181</td>\n",
       "      <td>1218</td>\n",
       "      <td>1776</td>\n",
       "    </tr>\n",
       "    <tr>\n",
       "      <th>3</th>\n",
       "      <td>1503960366</td>\n",
       "      <td>2016-04-15</td>\n",
       "      <td>9762</td>\n",
       "      <td>6.28</td>\n",
       "      <td>6.28</td>\n",
       "      <td>2.14</td>\n",
       "      <td>1.26</td>\n",
       "      <td>2.83</td>\n",
       "      <td>29</td>\n",
       "      <td>34</td>\n",
       "      <td>209</td>\n",
       "      <td>726</td>\n",
       "      <td>1745</td>\n",
       "    </tr>\n",
       "    <tr>\n",
       "      <th>4</th>\n",
       "      <td>1503960366</td>\n",
       "      <td>2016-04-16</td>\n",
       "      <td>12669</td>\n",
       "      <td>8.16</td>\n",
       "      <td>8.16</td>\n",
       "      <td>2.71</td>\n",
       "      <td>0.41</td>\n",
       "      <td>5.04</td>\n",
       "      <td>36</td>\n",
       "      <td>10</td>\n",
       "      <td>221</td>\n",
       "      <td>773</td>\n",
       "      <td>1863</td>\n",
       "    </tr>\n",
       "  </tbody>\n",
       "</table>\n",
       "</div>"
      ],
      "text/plain": [
       "           id activityday  totalsteps  totaldistance  trackerdistance  \\\n",
       "0  1503960366  2016-04-12       13162           8.50             8.50   \n",
       "1  1503960366  2016-04-13       10735           6.97             6.97   \n",
       "2  1503960366  2016-04-14       10460           6.74             6.74   \n",
       "3  1503960366  2016-04-15        9762           6.28             6.28   \n",
       "4  1503960366  2016-04-16       12669           8.16             8.16   \n",
       "\n",
       "   veryactivedistance  moderatelyactivedistance  lightactivedistance  \\\n",
       "0                1.88                      0.55                 6.06   \n",
       "1                1.57                      0.69                 4.71   \n",
       "2                2.44                      0.40                 3.91   \n",
       "3                2.14                      1.26                 2.83   \n",
       "4                2.71                      0.41                 5.04   \n",
       "\n",
       "   veryactiveminutes  fairlyactiveminutes  lightlyactiveminutes  \\\n",
       "0                 25                   13                   328   \n",
       "1                 21                   19                   217   \n",
       "2                 30                   11                   181   \n",
       "3                 29                   34                   209   \n",
       "4                 36                   10                   221   \n",
       "\n",
       "   sedentaryminutes  calories  \n",
       "0               728      1985  \n",
       "1               776      1797  \n",
       "2              1218      1776  \n",
       "3               726      1745  \n",
       "4               773      1863  "
      ]
     },
     "execution_count": 49,
     "metadata": {},
     "output_type": "execute_result"
    }
   ],
   "source": [
    "daily_activity.head()"
   ]
  },
  {
   "cell_type": "code",
   "execution_count": 50,
   "id": "7e33caa5-d9d5-4130-9773-f50719b7474f",
   "metadata": {},
   "outputs": [
    {
     "data": {
      "text/html": [
       "<div>\n",
       "<style scoped>\n",
       "    .dataframe tbody tr th:only-of-type {\n",
       "        vertical-align: middle;\n",
       "    }\n",
       "\n",
       "    .dataframe tbody tr th {\n",
       "        vertical-align: top;\n",
       "    }\n",
       "\n",
       "    .dataframe thead th {\n",
       "        text-align: right;\n",
       "    }\n",
       "</style>\n",
       "<table border=\"1\" class=\"dataframe\">\n",
       "  <thead>\n",
       "    <tr style=\"text-align: right;\">\n",
       "      <th></th>\n",
       "      <th>id</th>\n",
       "      <th>activityday</th>\n",
       "      <th>calories</th>\n",
       "    </tr>\n",
       "  </thead>\n",
       "  <tbody>\n",
       "    <tr>\n",
       "      <th>0</th>\n",
       "      <td>1503960366</td>\n",
       "      <td>2016-04-12</td>\n",
       "      <td>1985</td>\n",
       "    </tr>\n",
       "    <tr>\n",
       "      <th>1</th>\n",
       "      <td>1503960366</td>\n",
       "      <td>2016-04-13</td>\n",
       "      <td>1797</td>\n",
       "    </tr>\n",
       "    <tr>\n",
       "      <th>2</th>\n",
       "      <td>1503960366</td>\n",
       "      <td>2016-04-14</td>\n",
       "      <td>1776</td>\n",
       "    </tr>\n",
       "    <tr>\n",
       "      <th>3</th>\n",
       "      <td>1503960366</td>\n",
       "      <td>2016-04-15</td>\n",
       "      <td>1745</td>\n",
       "    </tr>\n",
       "    <tr>\n",
       "      <th>4</th>\n",
       "      <td>1503960366</td>\n",
       "      <td>2016-04-16</td>\n",
       "      <td>1863</td>\n",
       "    </tr>\n",
       "  </tbody>\n",
       "</table>\n",
       "</div>"
      ],
      "text/plain": [
       "           id activityday  calories\n",
       "0  1503960366  2016-04-12      1985\n",
       "1  1503960366  2016-04-13      1797\n",
       "2  1503960366  2016-04-14      1776\n",
       "3  1503960366  2016-04-15      1745\n",
       "4  1503960366  2016-04-16      1863"
      ]
     },
     "execution_count": 50,
     "metadata": {},
     "output_type": "execute_result"
    }
   ],
   "source": [
    "daily_calories.head()"
   ]
  },
  {
   "cell_type": "code",
   "execution_count": 51,
   "id": "565abda8-6048-4296-ba47-63d6913bd3ff",
   "metadata": {},
   "outputs": [
    {
     "data": {
      "text/html": [
       "<div>\n",
       "<style scoped>\n",
       "    .dataframe tbody tr th:only-of-type {\n",
       "        vertical-align: middle;\n",
       "    }\n",
       "\n",
       "    .dataframe tbody tr th {\n",
       "        vertical-align: top;\n",
       "    }\n",
       "\n",
       "    .dataframe thead th {\n",
       "        text-align: right;\n",
       "    }\n",
       "</style>\n",
       "<table border=\"1\" class=\"dataframe\">\n",
       "  <thead>\n",
       "    <tr style=\"text-align: right;\">\n",
       "      <th></th>\n",
       "      <th>id</th>\n",
       "      <th>activityday</th>\n",
       "      <th>steptotal</th>\n",
       "    </tr>\n",
       "  </thead>\n",
       "  <tbody>\n",
       "    <tr>\n",
       "      <th>0</th>\n",
       "      <td>1503960366</td>\n",
       "      <td>2016-04-12</td>\n",
       "      <td>13162</td>\n",
       "    </tr>\n",
       "    <tr>\n",
       "      <th>1</th>\n",
       "      <td>1503960366</td>\n",
       "      <td>2016-04-13</td>\n",
       "      <td>10735</td>\n",
       "    </tr>\n",
       "    <tr>\n",
       "      <th>2</th>\n",
       "      <td>1503960366</td>\n",
       "      <td>2016-04-14</td>\n",
       "      <td>10460</td>\n",
       "    </tr>\n",
       "    <tr>\n",
       "      <th>3</th>\n",
       "      <td>1503960366</td>\n",
       "      <td>2016-04-15</td>\n",
       "      <td>9762</td>\n",
       "    </tr>\n",
       "    <tr>\n",
       "      <th>4</th>\n",
       "      <td>1503960366</td>\n",
       "      <td>2016-04-16</td>\n",
       "      <td>12669</td>\n",
       "    </tr>\n",
       "  </tbody>\n",
       "</table>\n",
       "</div>"
      ],
      "text/plain": [
       "           id activityday  steptotal\n",
       "0  1503960366  2016-04-12      13162\n",
       "1  1503960366  2016-04-13      10735\n",
       "2  1503960366  2016-04-14      10460\n",
       "3  1503960366  2016-04-15       9762\n",
       "4  1503960366  2016-04-16      12669"
      ]
     },
     "execution_count": 51,
     "metadata": {},
     "output_type": "execute_result"
    }
   ],
   "source": [
    "daily_steps.head()"
   ]
  },
  {
   "cell_type": "code",
   "execution_count": 52,
   "id": "7aa24886-aac1-43ac-9690-777b131904db",
   "metadata": {},
   "outputs": [
    {
     "data": {
      "text/html": [
       "<div>\n",
       "<style scoped>\n",
       "    .dataframe tbody tr th:only-of-type {\n",
       "        vertical-align: middle;\n",
       "    }\n",
       "\n",
       "    .dataframe tbody tr th {\n",
       "        vertical-align: top;\n",
       "    }\n",
       "\n",
       "    .dataframe thead th {\n",
       "        text-align: right;\n",
       "    }\n",
       "</style>\n",
       "<table border=\"1\" class=\"dataframe\">\n",
       "  <thead>\n",
       "    <tr style=\"text-align: right;\">\n",
       "      <th></th>\n",
       "      <th>id</th>\n",
       "      <th>sleepday</th>\n",
       "      <th>totalsleeprecords</th>\n",
       "      <th>totalminutesasleep</th>\n",
       "      <th>totaltimeinbed</th>\n",
       "    </tr>\n",
       "  </thead>\n",
       "  <tbody>\n",
       "    <tr>\n",
       "      <th>0</th>\n",
       "      <td>1503960366</td>\n",
       "      <td>2016-04-12</td>\n",
       "      <td>1</td>\n",
       "      <td>327</td>\n",
       "      <td>346</td>\n",
       "    </tr>\n",
       "    <tr>\n",
       "      <th>1</th>\n",
       "      <td>1503960366</td>\n",
       "      <td>2016-04-13</td>\n",
       "      <td>2</td>\n",
       "      <td>384</td>\n",
       "      <td>407</td>\n",
       "    </tr>\n",
       "    <tr>\n",
       "      <th>2</th>\n",
       "      <td>1503960366</td>\n",
       "      <td>2016-04-15</td>\n",
       "      <td>1</td>\n",
       "      <td>412</td>\n",
       "      <td>442</td>\n",
       "    </tr>\n",
       "    <tr>\n",
       "      <th>3</th>\n",
       "      <td>1503960366</td>\n",
       "      <td>2016-04-16</td>\n",
       "      <td>2</td>\n",
       "      <td>340</td>\n",
       "      <td>367</td>\n",
       "    </tr>\n",
       "    <tr>\n",
       "      <th>4</th>\n",
       "      <td>1503960366</td>\n",
       "      <td>2016-04-17</td>\n",
       "      <td>1</td>\n",
       "      <td>700</td>\n",
       "      <td>712</td>\n",
       "    </tr>\n",
       "  </tbody>\n",
       "</table>\n",
       "</div>"
      ],
      "text/plain": [
       "           id   sleepday  totalsleeprecords  totalminutesasleep  \\\n",
       "0  1503960366 2016-04-12                  1                 327   \n",
       "1  1503960366 2016-04-13                  2                 384   \n",
       "2  1503960366 2016-04-15                  1                 412   \n",
       "3  1503960366 2016-04-16                  2                 340   \n",
       "4  1503960366 2016-04-17                  1                 700   \n",
       "\n",
       "   totaltimeinbed  \n",
       "0             346  \n",
       "1             407  \n",
       "2             442  \n",
       "3             367  \n",
       "4             712  "
      ]
     },
     "execution_count": 52,
     "metadata": {},
     "output_type": "execute_result"
    }
   ],
   "source": [
    "daily_sleep.head()"
   ]
  },
  {
   "cell_type": "markdown",
   "id": "40ae8ea1-de4c-4791-ae51-9690b5809683",
   "metadata": {},
   "source": [
    "## Merge daily_activity and daily_calories on Id and date columns"
   ]
  },
  {
   "cell_type": "code",
   "execution_count": 53,
   "id": "c64de03a-e6a1-4a1d-8c22-c00b533d3690",
   "metadata": {},
   "outputs": [],
   "source": [
    "daily_activity_calories = pd.merge(\n",
    "    daily_activity,\n",
    "    daily_calories,\n",
    "    left_on=[\"id\", \"activityday\"],\n",
    "    right_on=[\"id\", \"activityday\"],\n",
    "    how=\"inner\",)"
   ]
  },
  {
   "cell_type": "code",
   "execution_count": 54,
   "id": "fa452949-d322-4675-8798-584f092ecb98",
   "metadata": {},
   "outputs": [
    {
     "data": {
      "text/html": [
       "<div>\n",
       "<style scoped>\n",
       "    .dataframe tbody tr th:only-of-type {\n",
       "        vertical-align: middle;\n",
       "    }\n",
       "\n",
       "    .dataframe tbody tr th {\n",
       "        vertical-align: top;\n",
       "    }\n",
       "\n",
       "    .dataframe thead th {\n",
       "        text-align: right;\n",
       "    }\n",
       "</style>\n",
       "<table border=\"1\" class=\"dataframe\">\n",
       "  <thead>\n",
       "    <tr style=\"text-align: right;\">\n",
       "      <th></th>\n",
       "      <th>id</th>\n",
       "      <th>activityday</th>\n",
       "      <th>totalsteps</th>\n",
       "      <th>totaldistance</th>\n",
       "      <th>trackerdistance</th>\n",
       "      <th>veryactivedistance</th>\n",
       "      <th>moderatelyactivedistance</th>\n",
       "      <th>lightactivedistance</th>\n",
       "      <th>veryactiveminutes</th>\n",
       "      <th>fairlyactiveminutes</th>\n",
       "      <th>lightlyactiveminutes</th>\n",
       "      <th>sedentaryminutes</th>\n",
       "      <th>calories_x</th>\n",
       "      <th>calories_y</th>\n",
       "    </tr>\n",
       "  </thead>\n",
       "  <tbody>\n",
       "    <tr>\n",
       "      <th>0</th>\n",
       "      <td>1503960366</td>\n",
       "      <td>2016-04-12</td>\n",
       "      <td>13162</td>\n",
       "      <td>8.50</td>\n",
       "      <td>8.50</td>\n",
       "      <td>1.88</td>\n",
       "      <td>0.55</td>\n",
       "      <td>6.06</td>\n",
       "      <td>25</td>\n",
       "      <td>13</td>\n",
       "      <td>328</td>\n",
       "      <td>728</td>\n",
       "      <td>1985</td>\n",
       "      <td>1985</td>\n",
       "    </tr>\n",
       "    <tr>\n",
       "      <th>1</th>\n",
       "      <td>1503960366</td>\n",
       "      <td>2016-04-13</td>\n",
       "      <td>10735</td>\n",
       "      <td>6.97</td>\n",
       "      <td>6.97</td>\n",
       "      <td>1.57</td>\n",
       "      <td>0.69</td>\n",
       "      <td>4.71</td>\n",
       "      <td>21</td>\n",
       "      <td>19</td>\n",
       "      <td>217</td>\n",
       "      <td>776</td>\n",
       "      <td>1797</td>\n",
       "      <td>1797</td>\n",
       "    </tr>\n",
       "    <tr>\n",
       "      <th>2</th>\n",
       "      <td>1503960366</td>\n",
       "      <td>2016-04-14</td>\n",
       "      <td>10460</td>\n",
       "      <td>6.74</td>\n",
       "      <td>6.74</td>\n",
       "      <td>2.44</td>\n",
       "      <td>0.40</td>\n",
       "      <td>3.91</td>\n",
       "      <td>30</td>\n",
       "      <td>11</td>\n",
       "      <td>181</td>\n",
       "      <td>1218</td>\n",
       "      <td>1776</td>\n",
       "      <td>1776</td>\n",
       "    </tr>\n",
       "    <tr>\n",
       "      <th>3</th>\n",
       "      <td>1503960366</td>\n",
       "      <td>2016-04-15</td>\n",
       "      <td>9762</td>\n",
       "      <td>6.28</td>\n",
       "      <td>6.28</td>\n",
       "      <td>2.14</td>\n",
       "      <td>1.26</td>\n",
       "      <td>2.83</td>\n",
       "      <td>29</td>\n",
       "      <td>34</td>\n",
       "      <td>209</td>\n",
       "      <td>726</td>\n",
       "      <td>1745</td>\n",
       "      <td>1745</td>\n",
       "    </tr>\n",
       "    <tr>\n",
       "      <th>4</th>\n",
       "      <td>1503960366</td>\n",
       "      <td>2016-04-16</td>\n",
       "      <td>12669</td>\n",
       "      <td>8.16</td>\n",
       "      <td>8.16</td>\n",
       "      <td>2.71</td>\n",
       "      <td>0.41</td>\n",
       "      <td>5.04</td>\n",
       "      <td>36</td>\n",
       "      <td>10</td>\n",
       "      <td>221</td>\n",
       "      <td>773</td>\n",
       "      <td>1863</td>\n",
       "      <td>1863</td>\n",
       "    </tr>\n",
       "  </tbody>\n",
       "</table>\n",
       "</div>"
      ],
      "text/plain": [
       "           id activityday  totalsteps  totaldistance  trackerdistance  \\\n",
       "0  1503960366  2016-04-12       13162           8.50             8.50   \n",
       "1  1503960366  2016-04-13       10735           6.97             6.97   \n",
       "2  1503960366  2016-04-14       10460           6.74             6.74   \n",
       "3  1503960366  2016-04-15        9762           6.28             6.28   \n",
       "4  1503960366  2016-04-16       12669           8.16             8.16   \n",
       "\n",
       "   veryactivedistance  moderatelyactivedistance  lightactivedistance  \\\n",
       "0                1.88                      0.55                 6.06   \n",
       "1                1.57                      0.69                 4.71   \n",
       "2                2.44                      0.40                 3.91   \n",
       "3                2.14                      1.26                 2.83   \n",
       "4                2.71                      0.41                 5.04   \n",
       "\n",
       "   veryactiveminutes  fairlyactiveminutes  lightlyactiveminutes  \\\n",
       "0                 25                   13                   328   \n",
       "1                 21                   19                   217   \n",
       "2                 30                   11                   181   \n",
       "3                 29                   34                   209   \n",
       "4                 36                   10                   221   \n",
       "\n",
       "   sedentaryminutes  calories_x  calories_y  \n",
       "0               728        1985        1985  \n",
       "1               776        1797        1797  \n",
       "2              1218        1776        1776  \n",
       "3               726        1745        1745  \n",
       "4               773        1863        1863  "
      ]
     },
     "execution_count": 54,
     "metadata": {},
     "output_type": "execute_result"
    }
   ],
   "source": [
    "daily_activity_calories.head()"
   ]
  },
  {
   "cell_type": "raw",
   "id": "614d1305-3d43-4f47-aa4b-8e5aa53124a3",
   "metadata": {},
   "source": [
    "# Merged_data with daily_sleep"
   ]
  },
  {
   "cell_type": "code",
   "execution_count": 55,
   "id": "038c0b09-c08c-4b63-8715-b34f2a2216bc",
   "metadata": {},
   "outputs": [],
   "source": [
    "daily_activity_calories = pd.merge(\n",
    "    daily_activity_calories,\n",
    "    daily_sleep,\n",
    "    left_on=[\"id\", \"activityday\"],\n",
    "    right_on=[\"id\", \"sleepday\"],\n",
    "    how=\"inner\",)"
   ]
  },
  {
   "cell_type": "code",
   "execution_count": 56,
   "id": "b0758603-78b0-4468-9122-5ed1d5903a53",
   "metadata": {},
   "outputs": [
    {
     "data": {
      "text/html": [
       "<div>\n",
       "<style scoped>\n",
       "    .dataframe tbody tr th:only-of-type {\n",
       "        vertical-align: middle;\n",
       "    }\n",
       "\n",
       "    .dataframe tbody tr th {\n",
       "        vertical-align: top;\n",
       "    }\n",
       "\n",
       "    .dataframe thead th {\n",
       "        text-align: right;\n",
       "    }\n",
       "</style>\n",
       "<table border=\"1\" class=\"dataframe\">\n",
       "  <thead>\n",
       "    <tr style=\"text-align: right;\">\n",
       "      <th></th>\n",
       "      <th>id</th>\n",
       "      <th>activityday</th>\n",
       "      <th>totalsteps</th>\n",
       "      <th>totaldistance</th>\n",
       "      <th>trackerdistance</th>\n",
       "      <th>veryactivedistance</th>\n",
       "      <th>moderatelyactivedistance</th>\n",
       "      <th>lightactivedistance</th>\n",
       "      <th>veryactiveminutes</th>\n",
       "      <th>fairlyactiveminutes</th>\n",
       "      <th>lightlyactiveminutes</th>\n",
       "      <th>sedentaryminutes</th>\n",
       "      <th>calories_x</th>\n",
       "      <th>calories_y</th>\n",
       "      <th>sleepday</th>\n",
       "      <th>totalsleeprecords</th>\n",
       "      <th>totalminutesasleep</th>\n",
       "      <th>totaltimeinbed</th>\n",
       "    </tr>\n",
       "  </thead>\n",
       "  <tbody>\n",
       "    <tr>\n",
       "      <th>0</th>\n",
       "      <td>1503960366</td>\n",
       "      <td>2016-04-12</td>\n",
       "      <td>13162</td>\n",
       "      <td>8.50</td>\n",
       "      <td>8.50</td>\n",
       "      <td>1.88</td>\n",
       "      <td>0.55</td>\n",
       "      <td>6.06</td>\n",
       "      <td>25</td>\n",
       "      <td>13</td>\n",
       "      <td>328</td>\n",
       "      <td>728</td>\n",
       "      <td>1985</td>\n",
       "      <td>1985</td>\n",
       "      <td>2016-04-12</td>\n",
       "      <td>1</td>\n",
       "      <td>327</td>\n",
       "      <td>346</td>\n",
       "    </tr>\n",
       "    <tr>\n",
       "      <th>1</th>\n",
       "      <td>1503960366</td>\n",
       "      <td>2016-04-13</td>\n",
       "      <td>10735</td>\n",
       "      <td>6.97</td>\n",
       "      <td>6.97</td>\n",
       "      <td>1.57</td>\n",
       "      <td>0.69</td>\n",
       "      <td>4.71</td>\n",
       "      <td>21</td>\n",
       "      <td>19</td>\n",
       "      <td>217</td>\n",
       "      <td>776</td>\n",
       "      <td>1797</td>\n",
       "      <td>1797</td>\n",
       "      <td>2016-04-13</td>\n",
       "      <td>2</td>\n",
       "      <td>384</td>\n",
       "      <td>407</td>\n",
       "    </tr>\n",
       "    <tr>\n",
       "      <th>2</th>\n",
       "      <td>1503960366</td>\n",
       "      <td>2016-04-15</td>\n",
       "      <td>9762</td>\n",
       "      <td>6.28</td>\n",
       "      <td>6.28</td>\n",
       "      <td>2.14</td>\n",
       "      <td>1.26</td>\n",
       "      <td>2.83</td>\n",
       "      <td>29</td>\n",
       "      <td>34</td>\n",
       "      <td>209</td>\n",
       "      <td>726</td>\n",
       "      <td>1745</td>\n",
       "      <td>1745</td>\n",
       "      <td>2016-04-15</td>\n",
       "      <td>1</td>\n",
       "      <td>412</td>\n",
       "      <td>442</td>\n",
       "    </tr>\n",
       "    <tr>\n",
       "      <th>3</th>\n",
       "      <td>1503960366</td>\n",
       "      <td>2016-04-16</td>\n",
       "      <td>12669</td>\n",
       "      <td>8.16</td>\n",
       "      <td>8.16</td>\n",
       "      <td>2.71</td>\n",
       "      <td>0.41</td>\n",
       "      <td>5.04</td>\n",
       "      <td>36</td>\n",
       "      <td>10</td>\n",
       "      <td>221</td>\n",
       "      <td>773</td>\n",
       "      <td>1863</td>\n",
       "      <td>1863</td>\n",
       "      <td>2016-04-16</td>\n",
       "      <td>2</td>\n",
       "      <td>340</td>\n",
       "      <td>367</td>\n",
       "    </tr>\n",
       "    <tr>\n",
       "      <th>4</th>\n",
       "      <td>1503960366</td>\n",
       "      <td>2016-04-17</td>\n",
       "      <td>9705</td>\n",
       "      <td>6.48</td>\n",
       "      <td>6.48</td>\n",
       "      <td>3.19</td>\n",
       "      <td>0.78</td>\n",
       "      <td>2.51</td>\n",
       "      <td>38</td>\n",
       "      <td>20</td>\n",
       "      <td>164</td>\n",
       "      <td>539</td>\n",
       "      <td>1728</td>\n",
       "      <td>1728</td>\n",
       "      <td>2016-04-17</td>\n",
       "      <td>1</td>\n",
       "      <td>700</td>\n",
       "      <td>712</td>\n",
       "    </tr>\n",
       "  </tbody>\n",
       "</table>\n",
       "</div>"
      ],
      "text/plain": [
       "           id activityday  totalsteps  totaldistance  trackerdistance  \\\n",
       "0  1503960366  2016-04-12       13162           8.50             8.50   \n",
       "1  1503960366  2016-04-13       10735           6.97             6.97   \n",
       "2  1503960366  2016-04-15        9762           6.28             6.28   \n",
       "3  1503960366  2016-04-16       12669           8.16             8.16   \n",
       "4  1503960366  2016-04-17        9705           6.48             6.48   \n",
       "\n",
       "   veryactivedistance  moderatelyactivedistance  lightactivedistance  \\\n",
       "0                1.88                      0.55                 6.06   \n",
       "1                1.57                      0.69                 4.71   \n",
       "2                2.14                      1.26                 2.83   \n",
       "3                2.71                      0.41                 5.04   \n",
       "4                3.19                      0.78                 2.51   \n",
       "\n",
       "   veryactiveminutes  fairlyactiveminutes  lightlyactiveminutes  \\\n",
       "0                 25                   13                   328   \n",
       "1                 21                   19                   217   \n",
       "2                 29                   34                   209   \n",
       "3                 36                   10                   221   \n",
       "4                 38                   20                   164   \n",
       "\n",
       "   sedentaryminutes  calories_x  calories_y   sleepday  totalsleeprecords  \\\n",
       "0               728        1985        1985 2016-04-12                  1   \n",
       "1               776        1797        1797 2016-04-13                  2   \n",
       "2               726        1745        1745 2016-04-15                  1   \n",
       "3               773        1863        1863 2016-04-16                  2   \n",
       "4               539        1728        1728 2016-04-17                  1   \n",
       "\n",
       "   totalminutesasleep  totaltimeinbed  \n",
       "0                 327             346  \n",
       "1                 384             407  \n",
       "2                 412             442  \n",
       "3                 340             367  \n",
       "4                 700             712  "
      ]
     },
     "execution_count": 56,
     "metadata": {},
     "output_type": "execute_result"
    }
   ],
   "source": [
    "daily_activity_calories.head()"
   ]
  },
  {
   "cell_type": "markdown",
   "id": "f8be4962-f9c4-487c-8cea-fe1bf8f22f6f",
   "metadata": {},
   "source": [
    "## Analyze"
   ]
  },
  {
   "cell_type": "markdown",
   "id": "332205fe-4db4-4ec0-a17e-44427f6208ce",
   "metadata": {},
   "source": [
    "## Activity vs. Calories\n",
    "Calculate the correlation between total steps or very active minutes and calories burnt. This can provide insights into how activity levels influence caloric burn."
   ]
  },
  {
   "cell_type": "markdown",
   "id": "c84d04d8-689a-4ba7-94e9-c23a63391874",
   "metadata": {},
   "source": [
    "## Calculate the correlation between total steps and calories burnt"
   ]
  },
  {
   "cell_type": "code",
   "execution_count": 57,
   "id": "fabc01fb-6ffb-43cd-a1d5-992615153554",
   "metadata": {},
   "outputs": [],
   "source": [
    "correlation_steps_calories = daily_activity_calories['totalsteps'].corr(daily_activity_calories['calories_y'])"
   ]
  },
  {
   "cell_type": "code",
   "execution_count": 58,
   "id": "61089ec2-1be7-49d4-9bf0-46f67a44aa21",
   "metadata": {},
   "outputs": [
    {
     "name": "stdout",
     "output_type": "stream",
     "text": [
      "Correlation between total steps and calories burnt:  0.40461133970534174\n"
     ]
    }
   ],
   "source": [
    "print('Correlation between total steps and calories burnt: ', correlation_steps_calories)"
   ]
  },
  {
   "cell_type": "markdown",
   "id": "a40ebd6d-5c54-4e59-b0ec-c45b39840bf5",
   "metadata": {},
   "source": [
    "## Calculate the correlation between very active minutes and calories burnt"
   ]
  },
  {
   "cell_type": "code",
   "execution_count": 59,
   "id": "41c45705-3d6d-4003-a76f-fde51c98fd98",
   "metadata": {},
   "outputs": [],
   "source": [
    "correlation_active_minutes_calories = daily_activity_calories['veryactiveminutes'].corr(daily_activity_calories['calories_y'])"
   ]
  },
  {
   "cell_type": "code",
   "execution_count": 60,
   "id": "e8e5915c-0e7f-4e5a-954b-b3d9ed671d8a",
   "metadata": {},
   "outputs": [
    {
     "name": "stdout",
     "output_type": "stream",
     "text": [
      "correlation between very active minutes and calories burnt:  0.6111982924396088\n"
     ]
    }
   ],
   "source": [
    "print('correlation between very active minutes and calories burnt: ', correlation_active_minutes_calories)"
   ]
  },
  {
   "cell_type": "markdown",
   "id": "9322da46-d932-4885-8f57-a4037ab81b71",
   "metadata": {},
   "source": [
    "## Segmentation based on daily steps"
   ]
  },
  {
   "cell_type": "code",
   "execution_count": 61,
   "id": "ce738ac9-d41d-4e27-bca3-43523e979264",
   "metadata": {},
   "outputs": [],
   "source": [
    "daily_avg = daily_activity_calories.groupby('id').agg({\n",
    "    'totalsteps': 'mean',\n",
    "    'calories_y': 'mean',\n",
    "    'totalminutesasleep': 'mean' }).reset_index()\n",
    "# Assuming 'totalsleeprecords' is the relevant column for sleep data."
   ]
  },
  {
   "cell_type": "code",
   "execution_count": 62,
   "id": "205a22ee-8a0a-40eb-92ce-e59581beb3ef",
   "metadata": {},
   "outputs": [],
   "source": [
    "# Rename columns for clarity\n",
    "\n",
    "daily_avg.columns = ['id', 'mean_daily_steps', 'mean_daily_calories', 'mean_daily_sleep']"
   ]
  },
  {
   "cell_type": "code",
   "execution_count": 63,
   "id": "303af758-3e23-4680-9bec-f424caaac87d",
   "metadata": {},
   "outputs": [
    {
     "data": {
      "text/html": [
       "<div>\n",
       "<style scoped>\n",
       "    .dataframe tbody tr th:only-of-type {\n",
       "        vertical-align: middle;\n",
       "    }\n",
       "\n",
       "    .dataframe tbody tr th {\n",
       "        vertical-align: top;\n",
       "    }\n",
       "\n",
       "    .dataframe thead th {\n",
       "        text-align: right;\n",
       "    }\n",
       "</style>\n",
       "<table border=\"1\" class=\"dataframe\">\n",
       "  <thead>\n",
       "    <tr style=\"text-align: right;\">\n",
       "      <th></th>\n",
       "      <th>id</th>\n",
       "      <th>mean_daily_steps</th>\n",
       "      <th>mean_daily_calories</th>\n",
       "      <th>mean_daily_sleep</th>\n",
       "    </tr>\n",
       "  </thead>\n",
       "  <tbody>\n",
       "    <tr>\n",
       "      <th>0</th>\n",
       "      <td>1503960366</td>\n",
       "      <td>12507.520000</td>\n",
       "      <td>1872.280000</td>\n",
       "      <td>360.280000</td>\n",
       "    </tr>\n",
       "    <tr>\n",
       "      <th>1</th>\n",
       "      <td>1644430081</td>\n",
       "      <td>7967.750000</td>\n",
       "      <td>2977.750000</td>\n",
       "      <td>294.000000</td>\n",
       "    </tr>\n",
       "    <tr>\n",
       "      <th>2</th>\n",
       "      <td>1844505072</td>\n",
       "      <td>3477.000000</td>\n",
       "      <td>1676.333333</td>\n",
       "      <td>652.000000</td>\n",
       "    </tr>\n",
       "    <tr>\n",
       "      <th>3</th>\n",
       "      <td>1927972279</td>\n",
       "      <td>1490.000000</td>\n",
       "      <td>2316.200000</td>\n",
       "      <td>417.000000</td>\n",
       "    </tr>\n",
       "    <tr>\n",
       "      <th>4</th>\n",
       "      <td>2026352035</td>\n",
       "      <td>5618.678571</td>\n",
       "      <td>1540.785714</td>\n",
       "      <td>506.178571</td>\n",
       "    </tr>\n",
       "  </tbody>\n",
       "</table>\n",
       "</div>"
      ],
      "text/plain": [
       "           id  mean_daily_steps  mean_daily_calories  mean_daily_sleep\n",
       "0  1503960366      12507.520000          1872.280000        360.280000\n",
       "1  1644430081       7967.750000          2977.750000        294.000000\n",
       "2  1844505072       3477.000000          1676.333333        652.000000\n",
       "3  1927972279       1490.000000          2316.200000        417.000000\n",
       "4  2026352035       5618.678571          1540.785714        506.178571"
      ]
     },
     "execution_count": 63,
     "metadata": {},
     "output_type": "execute_result"
    }
   ],
   "source": [
    "daily_avg.head()"
   ]
  },
  {
   "cell_type": "raw",
   "id": "965cc947-7e5f-4c87-80cd-4e43a75b7d70",
   "metadata": {},
   "source": [
    "## Define a function to categorize users based on their average daily steps"
   ]
  },
  {
   "cell_type": "code",
   "execution_count": 64,
   "id": "29702b36-b8ae-40f2-ad3e-612db8efbe0b",
   "metadata": {},
   "outputs": [],
   "source": [
    "def classify_by_steps(average_steps):\n",
    "    if average_steps < 5000:\n",
    "        return \"Sedentary\"\n",
    "    elif 5000 <= average_steps < 7500:\n",
    "        return \"Lightly active\"\n",
    "    elif 7500 <= average_steps < 10000:\n",
    "        return \"Fairly active\"\n",
    "    else:\n",
    "        return \"Very active\""
   ]
  },
  {
   "cell_type": "code",
   "execution_count": 65,
   "id": "44a460e0-622f-4f75-981c-9608d02c8a6b",
   "metadata": {},
   "outputs": [],
   "source": [
    "# Apply the function to the 'mean_daily_steps' column to create a new 'Activity_Category' column\n",
    "\n",
    "daily_avg['Activity_Category'] = daily_avg['mean_daily_steps'].apply(classify_by_steps)"
   ]
  },
  {
   "cell_type": "code",
   "execution_count": 66,
   "id": "9cec7a65-d11a-4306-a095-39bb205682cd",
   "metadata": {},
   "outputs": [
    {
     "data": {
      "text/html": [
       "<div>\n",
       "<style scoped>\n",
       "    .dataframe tbody tr th:only-of-type {\n",
       "        vertical-align: middle;\n",
       "    }\n",
       "\n",
       "    .dataframe tbody tr th {\n",
       "        vertical-align: top;\n",
       "    }\n",
       "\n",
       "    .dataframe thead th {\n",
       "        text-align: right;\n",
       "    }\n",
       "</style>\n",
       "<table border=\"1\" class=\"dataframe\">\n",
       "  <thead>\n",
       "    <tr style=\"text-align: right;\">\n",
       "      <th></th>\n",
       "      <th>id</th>\n",
       "      <th>mean_daily_steps</th>\n",
       "      <th>mean_daily_calories</th>\n",
       "      <th>mean_daily_sleep</th>\n",
       "      <th>Activity_Category</th>\n",
       "    </tr>\n",
       "  </thead>\n",
       "  <tbody>\n",
       "    <tr>\n",
       "      <th>0</th>\n",
       "      <td>1503960366</td>\n",
       "      <td>12507.520000</td>\n",
       "      <td>1872.280000</td>\n",
       "      <td>360.280000</td>\n",
       "      <td>Very active</td>\n",
       "    </tr>\n",
       "    <tr>\n",
       "      <th>1</th>\n",
       "      <td>1644430081</td>\n",
       "      <td>7967.750000</td>\n",
       "      <td>2977.750000</td>\n",
       "      <td>294.000000</td>\n",
       "      <td>Fairly active</td>\n",
       "    </tr>\n",
       "    <tr>\n",
       "      <th>2</th>\n",
       "      <td>1844505072</td>\n",
       "      <td>3477.000000</td>\n",
       "      <td>1676.333333</td>\n",
       "      <td>652.000000</td>\n",
       "      <td>Sedentary</td>\n",
       "    </tr>\n",
       "    <tr>\n",
       "      <th>3</th>\n",
       "      <td>1927972279</td>\n",
       "      <td>1490.000000</td>\n",
       "      <td>2316.200000</td>\n",
       "      <td>417.000000</td>\n",
       "      <td>Sedentary</td>\n",
       "    </tr>\n",
       "    <tr>\n",
       "      <th>4</th>\n",
       "      <td>2026352035</td>\n",
       "      <td>5618.678571</td>\n",
       "      <td>1540.785714</td>\n",
       "      <td>506.178571</td>\n",
       "      <td>Lightly active</td>\n",
       "    </tr>\n",
       "  </tbody>\n",
       "</table>\n",
       "</div>"
      ],
      "text/plain": [
       "           id  mean_daily_steps  mean_daily_calories  mean_daily_sleep  \\\n",
       "0  1503960366      12507.520000          1872.280000        360.280000   \n",
       "1  1644430081       7967.750000          2977.750000        294.000000   \n",
       "2  1844505072       3477.000000          1676.333333        652.000000   \n",
       "3  1927972279       1490.000000          2316.200000        417.000000   \n",
       "4  2026352035       5618.678571          1540.785714        506.178571   \n",
       "\n",
       "  Activity_Category  \n",
       "0       Very active  \n",
       "1     Fairly active  \n",
       "2         Sedentary  \n",
       "3         Sedentary  \n",
       "4    Lightly active  "
      ]
     },
     "execution_count": 66,
     "metadata": {},
     "output_type": "execute_result"
    }
   ],
   "source": [
    "# Display the updated dataframe with the new 'Activity_Category' column\n",
    "\n",
    "daily_avg.head()"
   ]
  },
  {
   "cell_type": "raw",
   "id": "71876cfd-9950-4ab8-9852-3a15f4b39dff",
   "metadata": {},
   "source": [
    "# group by percentage:"
   ]
  },
  {
   "cell_type": "code",
   "execution_count": 67,
   "id": "5a461601-aa3e-4119-be7f-880adf23fffb",
   "metadata": {},
   "outputs": [],
   "source": [
    "# Group by 'Activity_Category' and count each group\n",
    "\n",
    "user_type_percent = daily_avg.groupby('Activity_Category').size().reset_index(name='total')"
   ]
  },
  {
   "cell_type": "code",
   "execution_count": 68,
   "id": "9f7b2c56-d269-44b0-8e60-bd09abfed29a",
   "metadata": {},
   "outputs": [],
   "source": [
    "# Calculate the total number of users\n",
    "\n",
    "user_type_percent['totals'] = user_type_percent['total'].sum()"
   ]
  },
  {
   "cell_type": "code",
   "execution_count": 72,
   "id": "39113f6a-847b-4625-a9e4-abdd35d4abec",
   "metadata": {},
   "outputs": [],
   "source": [
    "# Calculate the percentage for each user type\n",
    "\n",
    "user_type_percent['total_percent'] = user_type_percent['total'] / user_type_percent['totals']"
   ]
  },
  {
   "cell_type": "code",
   "execution_count": 73,
   "id": "b9e62276-180a-49fc-903b-5afa1e6fc441",
   "metadata": {},
   "outputs": [],
   "source": [
    "# Convert the percentage to a readable format\n",
    "\n",
    "user_type_percent['percentage%'] = user_type_percent['total_percent'].apply(lambda x: f\"{x*100:.2f}%\")\n"
   ]
  },
  {
   "cell_type": "code",
   "execution_count": 74,
   "id": "264fced6-7424-4ab6-a821-bb596055ca0a",
   "metadata": {},
   "outputs": [],
   "source": [
    "# Reorder the levels of the user type\n",
    "\n",
    "ordered_categories = [\"Very active\", \"Fairly active\", \"Lightly active\", \"Sedentary\"]\n",
    "user_type_percent['Activity_Category'] = pd.Categorical(user_type_percent['Activity_Category'], categories=ordered_categories, ordered=True)\n",
    "user_type_percent = user_type_percent.sort_values('Activity_Category')\n"
   ]
  },
  {
   "cell_type": "code",
   "execution_count": 75,
   "id": "5a1281dd-c7cd-47b6-bb11-5da5abc4a3f1",
   "metadata": {},
   "outputs": [
    {
     "data": {
      "text/html": [
       "<div>\n",
       "<style scoped>\n",
       "    .dataframe tbody tr th:only-of-type {\n",
       "        vertical-align: middle;\n",
       "    }\n",
       "\n",
       "    .dataframe tbody tr th {\n",
       "        vertical-align: top;\n",
       "    }\n",
       "\n",
       "    .dataframe thead th {\n",
       "        text-align: right;\n",
       "    }\n",
       "</style>\n",
       "<table border=\"1\" class=\"dataframe\">\n",
       "  <thead>\n",
       "    <tr style=\"text-align: right;\">\n",
       "      <th></th>\n",
       "      <th>Activity_Category</th>\n",
       "      <th>total</th>\n",
       "      <th>totals</th>\n",
       "      <th>total_percent</th>\n",
       "      <th>percentage%</th>\n",
       "    </tr>\n",
       "  </thead>\n",
       "  <tbody>\n",
       "    <tr>\n",
       "      <th>3</th>\n",
       "      <td>Very active</td>\n",
       "      <td>5</td>\n",
       "      <td>24</td>\n",
       "      <td>0.208333</td>\n",
       "      <td>20.83%</td>\n",
       "    </tr>\n",
       "    <tr>\n",
       "      <th>0</th>\n",
       "      <td>Fairly active</td>\n",
       "      <td>9</td>\n",
       "      <td>24</td>\n",
       "      <td>0.375000</td>\n",
       "      <td>37.50%</td>\n",
       "    </tr>\n",
       "    <tr>\n",
       "      <th>1</th>\n",
       "      <td>Lightly active</td>\n",
       "      <td>5</td>\n",
       "      <td>24</td>\n",
       "      <td>0.208333</td>\n",
       "      <td>20.83%</td>\n",
       "    </tr>\n",
       "    <tr>\n",
       "      <th>2</th>\n",
       "      <td>Sedentary</td>\n",
       "      <td>5</td>\n",
       "      <td>24</td>\n",
       "      <td>0.208333</td>\n",
       "      <td>20.83%</td>\n",
       "    </tr>\n",
       "  </tbody>\n",
       "</table>\n",
       "</div>"
      ],
      "text/plain": [
       "  Activity_Category  total  totals  total_percent percentage%\n",
       "3       Very active      5      24       0.208333      20.83%\n",
       "0     Fairly active      9      24       0.375000      37.50%\n",
       "1    Lightly active      5      24       0.208333      20.83%\n",
       "2         Sedentary      5      24       0.208333      20.83%"
      ]
     },
     "execution_count": 75,
     "metadata": {},
     "output_type": "execute_result"
    }
   ],
   "source": [
    "user_type_percent"
   ]
  },
  {
   "cell_type": "markdown",
   "id": "b516bfcb-c00f-49dc-af90-9c50ae25a169",
   "metadata": {},
   "source": [
    "## draw a pie chart for each category"
   ]
  },
  {
   "cell_type": "code",
   "execution_count": 76,
   "id": "f85d4716-e058-4ad7-b424-946b925dfe19",
   "metadata": {},
   "outputs": [],
   "source": [
    "# Data for the pie chart\n",
    "\n",
    "labels = user_type_percent[\"Activity_Category\"]\n",
    "sizes = user_type_percent[\"total_percent\"]"
   ]
  },
  {
   "cell_type": "code",
   "execution_count": 78,
   "id": "1e857698-eeb5-4df9-871d-ef743594cfa1",
   "metadata": {
    "scrolled": true
   },
   "outputs": [
    {
     "data": {
      "image/png": "[encoded data removed]",
      "text/plain": [
       "<Figure size 500x300 with 1 Axes>"
      ]
     },
     "metadata": {},
     "output_type": "display_data"
    }
   ],
   "source": [
    "# Plotting the pie chart\n",
    "\n",
    "plt.figure(figsize=(5, 3))\n",
    "plt.pie(\n",
    "    sizes,\n",
    "    labels=labels,\n",
    "    autopct=\"%1.1f%%\",\n",
    "    startangle=140,\n",
    "    colors=[\"#ff9999\", \"#66b2ff\", \"#99ff99\", \"#ffcc99\"],\n",
    ")\n",
    "plt.axis(\"equal\")                # Equal aspect ratio ensures that pie is drawn as a circle.\n",
    "plt.title(\"Distribution of User Activity Levels\")\n",
    "plt.show()"
   ]
  },
  {
   "cell_type": "markdown",
   "id": "73d720af-67d3-4769-956b-5a30cf420549",
   "metadata": {},
   "source": [
    "## Based on the provided results, here are some conclusions we can draw:\n",
    "\n",
    "1. Distribution of User Types: The highest percentage of users fall under the \"Fairly active\" category, making up 37.50% of the total users.The categories \"Very active\", \"Lightly active\", and \"Sedentary\" each represent 20.83% of the total users, indicating an equal distribution among these three categories.\n",
    "\n",
    "2.Activity Insights: Almost 40% of the users are fairly active, suggesting that a significant portion of users are engaging in a moderate amount of physical activity.\n",
    "The fact that the categories \"Very active\", \"Lightly active\", and \"Sedentary\" have equal distributions might indicate a balanced user base in terms of their activity levels.\n",
    "\n",
    "3.Marketing or Product Development Implications: Since \"Fairly active\" is the most common category, marketing campaigns or product features that target this group might be effective.\n",
    "Given that there's an equal distribution among the \"Very active\", \"Lightly active\", and \"Sedentary\" categories, it might be worth exploring differentiated marketing strategies or product features tailored to each of these user types.\n",
    "\n",
    "4.User Behavior: Despite the availability and capabilities of the smart device, one-fifth of the users are categorized as \"Sedentary\". This might raise questions about why these users have such devices if they aren't very active. It might be for tracking other health metrics, or perhaps they are looking for motivation to become more active.\n",
    "\n",
    "In summary, understanding the distribution of user activity levels provides valuable insights into user behavior and can guide decision-making in marketing, product development, and user engagement strategies."
   ]
  },
  {
   "cell_type": "markdown",
   "id": "8f9b4b32-599a-4481-91c9-8763b5cd32e3",
   "metadata": {},
   "source": [
    "## Trend analysis\n",
    "Analyze trends over time. Do users trend to be more active (and burn more calories) on specific days of the week."
   ]
  },
  {
   "cell_type": "code",
   "execution_count": 80,
   "id": "00c57e05-51cc-4fc5-839b-a3c0d8f04b5e",
   "metadata": {},
   "outputs": [
    {
     "name": "stdout",
     "output_type": "stream",
     "text": [
      "Index(['id', 'activityday', 'totalsteps', 'totaldistance', 'trackerdistance',\n",
      "       'veryactivedistance', 'moderatelyactivedistance', 'lightactivedistance',\n",
      "       'veryactiveminutes', 'fairlyactiveminutes', 'lightlyactiveminutes',\n",
      "       'sedentaryminutes', 'calories_x', 'calories_y', 'sleepday',\n",
      "       'totalsleeprecords', 'totalminutesasleep', 'totaltimeinbed'],\n",
      "      dtype='object')\n"
     ]
    }
   ],
   "source": [
    "print(daily_activity_calories.columns)"
   ]
  },
  {
   "cell_type": "code",
   "execution_count": 81,
   "id": "b92090b8-ec2c-4a2c-a7d1-497e671d76b9",
   "metadata": {},
   "outputs": [
    {
     "name": "stdout",
     "output_type": "stream",
     "text": [
      "Index(['id', 'mean_daily_steps', 'mean_daily_calories', 'mean_daily_sleep',\n",
      "       'Activity_Category'],\n",
      "      dtype='object')\n"
     ]
    }
   ],
   "source": [
    "print(daily_avg.columns)"
   ]
  },
  {
   "cell_type": "markdown",
   "id": "e0dbd5ef-1329-40ba-98c6-87dd2d8c0259",
   "metadata": {},
   "source": [
    "## Merge daily_avg with daily_activity_calories"
   ]
  },
  {
   "cell_type": "code",
   "execution_count": 82,
   "id": "b0e0f992-e20f-4cbb-9e1e-362cbea1a668",
   "metadata": {},
   "outputs": [],
   "source": [
    "daily_activity_calories_avg = pd.merge(\n",
    "    daily_activity_calories, daily_avg, on=\"id\", how=\"inner\")"
   ]
  },
  {
   "cell_type": "code",
   "execution_count": 83,
   "id": "81a59338-5c3b-4031-8f26-f6579ae116e5",
   "metadata": {
    "scrolled": true
   },
   "outputs": [
    {
     "data": {
      "text/html": [
       "<div>\n",
       "<style scoped>\n",
       "    .dataframe tbody tr th:only-of-type {\n",
       "        vertical-align: middle;\n",
       "    }\n",
       "\n",
       "    .dataframe tbody tr th {\n",
       "        vertical-align: top;\n",
       "    }\n",
       "\n",
       "    .dataframe thead th {\n",
       "        text-align: right;\n",
       "    }\n",
       "</style>\n",
       "<table border=\"1\" class=\"dataframe\">\n",
       "  <thead>\n",
       "    <tr style=\"text-align: right;\">\n",
       "      <th></th>\n",
       "      <th>id</th>\n",
       "      <th>activityday</th>\n",
       "      <th>totalsteps</th>\n",
       "      <th>totaldistance</th>\n",
       "      <th>trackerdistance</th>\n",
       "      <th>veryactivedistance</th>\n",
       "      <th>moderatelyactivedistance</th>\n",
       "      <th>lightactivedistance</th>\n",
       "      <th>veryactiveminutes</th>\n",
       "      <th>fairlyactiveminutes</th>\n",
       "      <th>...</th>\n",
       "      <th>calories_x</th>\n",
       "      <th>calories_y</th>\n",
       "      <th>sleepday</th>\n",
       "      <th>totalsleeprecords</th>\n",
       "      <th>totalminutesasleep</th>\n",
       "      <th>totaltimeinbed</th>\n",
       "      <th>mean_daily_steps</th>\n",
       "      <th>mean_daily_calories</th>\n",
       "      <th>mean_daily_sleep</th>\n",
       "      <th>Activity_Category</th>\n",
       "    </tr>\n",
       "  </thead>\n",
       "  <tbody>\n",
       "    <tr>\n",
       "      <th>0</th>\n",
       "      <td>1503960366</td>\n",
       "      <td>2016-04-12</td>\n",
       "      <td>13162</td>\n",
       "      <td>8.50</td>\n",
       "      <td>8.50</td>\n",
       "      <td>1.88</td>\n",
       "      <td>0.55</td>\n",
       "      <td>6.06</td>\n",
       "      <td>25</td>\n",
       "      <td>13</td>\n",
       "      <td>...</td>\n",
       "      <td>1985</td>\n",
       "      <td>1985</td>\n",
       "      <td>2016-04-12</td>\n",
       "      <td>1</td>\n",
       "      <td>327</td>\n",
       "      <td>346</td>\n",
       "      <td>12507.52</td>\n",
       "      <td>1872.28</td>\n",
       "      <td>360.28</td>\n",
       "      <td>Very active</td>\n",
       "    </tr>\n",
       "    <tr>\n",
       "      <th>1</th>\n",
       "      <td>1503960366</td>\n",
       "      <td>2016-04-13</td>\n",
       "      <td>10735</td>\n",
       "      <td>6.97</td>\n",
       "      <td>6.97</td>\n",
       "      <td>1.57</td>\n",
       "      <td>0.69</td>\n",
       "      <td>4.71</td>\n",
       "      <td>21</td>\n",
       "      <td>19</td>\n",
       "      <td>...</td>\n",
       "      <td>1797</td>\n",
       "      <td>1797</td>\n",
       "      <td>2016-04-13</td>\n",
       "      <td>2</td>\n",
       "      <td>384</td>\n",
       "      <td>407</td>\n",
       "      <td>12507.52</td>\n",
       "      <td>1872.28</td>\n",
       "      <td>360.28</td>\n",
       "      <td>Very active</td>\n",
       "    </tr>\n",
       "    <tr>\n",
       "      <th>2</th>\n",
       "      <td>1503960366</td>\n",
       "      <td>2016-04-15</td>\n",
       "      <td>9762</td>\n",
       "      <td>6.28</td>\n",
       "      <td>6.28</td>\n",
       "      <td>2.14</td>\n",
       "      <td>1.26</td>\n",
       "      <td>2.83</td>\n",
       "      <td>29</td>\n",
       "      <td>34</td>\n",
       "      <td>...</td>\n",
       "      <td>1745</td>\n",
       "      <td>1745</td>\n",
       "      <td>2016-04-15</td>\n",
       "      <td>1</td>\n",
       "      <td>412</td>\n",
       "      <td>442</td>\n",
       "      <td>12507.52</td>\n",
       "      <td>1872.28</td>\n",
       "      <td>360.28</td>\n",
       "      <td>Very active</td>\n",
       "    </tr>\n",
       "    <tr>\n",
       "      <th>3</th>\n",
       "      <td>1503960366</td>\n",
       "      <td>2016-04-16</td>\n",
       "      <td>12669</td>\n",
       "      <td>8.16</td>\n",
       "      <td>8.16</td>\n",
       "      <td>2.71</td>\n",
       "      <td>0.41</td>\n",
       "      <td>5.04</td>\n",
       "      <td>36</td>\n",
       "      <td>10</td>\n",
       "      <td>...</td>\n",
       "      <td>1863</td>\n",
       "      <td>1863</td>\n",
       "      <td>2016-04-16</td>\n",
       "      <td>2</td>\n",
       "      <td>340</td>\n",
       "      <td>367</td>\n",
       "      <td>12507.52</td>\n",
       "      <td>1872.28</td>\n",
       "      <td>360.28</td>\n",
       "      <td>Very active</td>\n",
       "    </tr>\n",
       "    <tr>\n",
       "      <th>4</th>\n",
       "      <td>1503960366</td>\n",
       "      <td>2016-04-17</td>\n",
       "      <td>9705</td>\n",
       "      <td>6.48</td>\n",
       "      <td>6.48</td>\n",
       "      <td>3.19</td>\n",
       "      <td>0.78</td>\n",
       "      <td>2.51</td>\n",
       "      <td>38</td>\n",
       "      <td>20</td>\n",
       "      <td>...</td>\n",
       "      <td>1728</td>\n",
       "      <td>1728</td>\n",
       "      <td>2016-04-17</td>\n",
       "      <td>1</td>\n",
       "      <td>700</td>\n",
       "      <td>712</td>\n",
       "      <td>12507.52</td>\n",
       "      <td>1872.28</td>\n",
       "      <td>360.28</td>\n",
       "      <td>Very active</td>\n",
       "    </tr>\n",
       "  </tbody>\n",
       "</table>\n",
       "<p>5 rows × 22 columns</p>\n",
       "</div>"
      ],
      "text/plain": [
       "           id activityday  totalsteps  totaldistance  trackerdistance  \\\n",
       "0  1503960366  2016-04-12       13162           8.50             8.50   \n",
       "1  1503960366  2016-04-13       10735           6.97             6.97   \n",
       "2  1503960366  2016-04-15        9762           6.28             6.28   \n",
       "3  1503960366  2016-04-16       12669           8.16             8.16   \n",
       "4  1503960366  2016-04-17        9705           6.48             6.48   \n",
       "\n",
       "   veryactivedistance  moderatelyactivedistance  lightactivedistance  \\\n",
       "0                1.88                      0.55                 6.06   \n",
       "1                1.57                      0.69                 4.71   \n",
       "2                2.14                      1.26                 2.83   \n",
       "3                2.71                      0.41                 5.04   \n",
       "4                3.19                      0.78                 2.51   \n",
       "\n",
       "   veryactiveminutes  fairlyactiveminutes  ...  calories_x  calories_y  \\\n",
       "0                 25                   13  ...        1985        1985   \n",
       "1                 21                   19  ...        1797        1797   \n",
       "2                 29                   34  ...        1745        1745   \n",
       "3                 36                   10  ...        1863        1863   \n",
       "4                 38                   20  ...        1728        1728   \n",
       "\n",
       "    sleepday  totalsleeprecords totalminutesasleep  totaltimeinbed  \\\n",
       "0 2016-04-12                  1                327             346   \n",
       "1 2016-04-13                  2                384             407   \n",
       "2 2016-04-15                  1                412             442   \n",
       "3 2016-04-16                  2                340             367   \n",
       "4 2016-04-17                  1                700             712   \n",
       "\n",
       "   mean_daily_steps  mean_daily_calories  mean_daily_sleep  Activity_Category  \n",
       "0          12507.52              1872.28            360.28        Very active  \n",
       "1          12507.52              1872.28            360.28        Very active  \n",
       "2          12507.52              1872.28            360.28        Very active  \n",
       "3          12507.52              1872.28            360.28        Very active  \n",
       "4          12507.52              1872.28            360.28        Very active  \n",
       "\n",
       "[5 rows x 22 columns]"
      ]
     },
     "execution_count": 83,
     "metadata": {},
     "output_type": "execute_result"
    }
   ],
   "source": [
    "daily_activity_calories_avg.head()"
   ]
  },
  {
   "cell_type": "code",
   "execution_count": 84,
   "id": "f06da9d0-ce9d-49c5-a7ca-3b31ed4cd60c",
   "metadata": {},
   "outputs": [],
   "source": [
    "most_active_day_mean = daily_activity_calories_avg.groupby(\"activityday\")[\n",
    "    \"totalsteps\"].mean()"
   ]
  },
  {
   "cell_type": "code",
   "execution_count": 106,
   "id": "b846a6a5-2639-42ca-975a-85462eca2ac8",
   "metadata": {},
   "outputs": [],
   "source": [
    "# Convert the DatetimeIndex to day names\n",
    "\n",
    "most_active_day_mean_daynames = most_active_day_mean.index.day_name()"
   ]
  },
  {
   "cell_type": "code",
   "execution_count": 107,
   "id": "d1fc1b11-ba59-4733-947d-0eed2c39fabb",
   "metadata": {},
   "outputs": [],
   "source": [
    "# Group by these day names and calculate the mean steps\n",
    "\n",
    "grouped_day_mean = most_active_day_mean.groupby(most_active_day_mean_daynames).mean()"
   ]
  },
  {
   "cell_type": "code",
   "execution_count": 108,
   "id": "b2bdbd6f-d457-499e-9d78-5ea1b588e7e4",
   "metadata": {},
   "outputs": [
    {
     "data": {
      "text/plain": [
       "activityday\n",
       "Friday       7988.698360\n",
       "Monday       9262.150524\n",
       "Saturday     9857.248626\n",
       "Sunday       7295.100790\n",
       "Thursday     7810.362436\n",
       "Tuesday      9183.084799\n",
       "Wednesday    8025.138182\n",
       "Name: totalsteps, dtype: float64"
      ]
     },
     "execution_count": 108,
     "metadata": {},
     "output_type": "execute_result"
    }
   ],
   "source": [
    "grouped_day_mean"
   ]
  },
  {
   "cell_type": "markdown",
   "id": "70b73d18-41de-4b46-b54b-9e5ae89f3cdf",
   "metadata": {},
   "source": [
    "## Ensure the data is sorted by the desired order of days for visual clarity"
   ]
  },
  {
   "cell_type": "code",
   "execution_count": 109,
   "id": "3b3ffc5f-7585-4803-bddb-54f34a9fae40",
   "metadata": {},
   "outputs": [],
   "source": [
    "order_of_days = [\n",
    "    \"Monday\",\n",
    "    \"Tuesday\",\n",
    "    \"Wednesday\",\n",
    "    \"Thursday\",\n",
    "    \"Friday\",\n",
    "    \"Saturday\",\n",
    "    \"Sunday\",\n",
    "]"
   ]
  },
  {
   "cell_type": "markdown",
   "id": "abf48c8a-e785-4eff-87bf-830ab53356a5",
   "metadata": {},
   "source": [
    "# Plotting\n",
    "\n",
    "## Plotting the data using seaborn"
   ]
  },
  {
   "cell_type": "code",
   "execution_count": 116,
   "id": "92084c11-9d4c-41e7-aeeb-f14b964873f7",
   "metadata": {},
   "outputs": [
    {
     "data": {
      "image/png": "[encoded data removed]",
      "text/plain": [
       "<Figure size 700x400 with 1 Axes>"
      ]
     },
     "metadata": {},
     "output_type": "display_data"
    }
   ],
   "source": [
    "plt.figure(figsize=(7, 4))\n",
    "sns.barplot(\n",
    "    x=grouped_day_mean.index,\n",
    "    y=grouped_day_mean.values,\n",
    "    order=order_of_days,\n",
    "    palette=\"viridis\",\n",
    ")\n",
    "plt.title(\"Average Steps Taken by Day of the Week\")\n",
    "plt.ylabel(\"Average Steps\")\n",
    "plt.xlabel(\"Day of the Week\")\n",
    "plt.xticks(rotation=45)\n",
    "plt.tight_layout()\n",
    "plt.show()"
   ]
  },
  {
   "cell_type": "raw",
   "id": "8a88ac06-34c0-4044-a1cc-c5c88cf6f5f4",
   "metadata": {},
   "source": [
    "\n",
    "Users tend to be most active on weekends, particularly on Saturday. Activity starts strong at the beginning of the week with Monday and Tuesday having higher averages, but it seems to decrease slightly mid-week before picking up again towards the weekend.\n",
    "This information can be useful for targeted marketing or promotional activities, where you might want to engage users more during their active periods or motivate them during typically less active days."
   ]
  },
  {
   "cell_type": "markdown",
   "id": "e3b4f7ad-bc62-4f93-aee9-2b5f6f9d1848",
   "metadata": {},
   "source": [
    "## Conclusion\n",
    "\n",
    "1.Activity Levels: A significant portion of users are classified as \"Fairly active\" with a noticeable balance among the \"Very active\", \"Lightly active\", and \"Sedentary\" categories. This suggests a diverse user base in terms of activity levels.\n",
    "\n",
    "2.Activity Trends: Saturdays are the most active days for users in terms of steps, while Sundays are the least active. This implies weekend habits vary, with users being more active at the start of the weekend and slowing down by its end.\n",
    "\n",
    "3.Logged Activities and Calories: There's a positive relationship between the distance of logged activities and the total calories burned."
   ]
  },
  {
   "cell_type": "markdown",
   "id": "68b18495-9fd9-42b8-93d5-2cb4d40762a7",
   "metadata": {},
   "source": [
    "##  Application of Insights\n",
    "\n",
    "1.Targeted Marketing and Product Features: Knowing the activity habits of users can guide targeted marketing campaigns. For instance, motivating messages or challenges can be sent on Sundays to boost activity.\n",
    "\n",
    "2.Enhanced Features: The surprising efficiency of \"Sedentary\" users can be further explored, possibly leading to new features that track non-step-based activities more effectively.\n",
    "\n",
    "3.Goal Setting Features: With many users reaching or exceeding caloric burn goals, the app could introduce dynamic goal-setting features to challenge users based on their past performance."
   ]
  }
 ],
 "metadata": {
  "kernelspec": {
   "display_name": "Python 3 (ipykernel)",
   "language": "python",
   "name": "python3"
  },
  "language_info": {
   "codemirror_mode": {
    "name": "ipython",
    "version": 3
   },
   "file_extension": ".py",
   "mimetype": "text/x-python",
   "name": "python",
   "nbconvert_exporter": "python",
   "pygments_lexer": "ipython3",
   "version": "3.12.7"
  }
 },
 "nbformat": 4,
 "nbformat_minor": 5
}
